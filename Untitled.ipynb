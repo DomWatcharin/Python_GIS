{
 "cells": [
  {
   "cell_type": "code",
   "execution_count": 1,
   "id": "e1e2dd3b",
   "metadata": {},
   "outputs": [
    {
     "name": "stdout",
     "output_type": "stream",
     "text": [
      "Requirement already satisfied: geopandas in /Users/watcharin-p/anaconda3/lib/python3.10/site-packages (0.13.0)\n",
      "Requirement already satisfied: matplotlib in /Users/watcharin-p/anaconda3/lib/python3.10/site-packages (3.7.1)\n",
      "Requirement already satisfied: fiona>=1.8.19 in /Users/watcharin-p/anaconda3/lib/python3.10/site-packages (from geopandas) (1.9.1)\n",
      "Requirement already satisfied: pyproj>=3.0.1 in /Users/watcharin-p/anaconda3/lib/python3.10/site-packages (from geopandas) (3.5.0)\n",
      "Requirement already satisfied: pandas>=1.1.0 in /Users/watcharin-p/anaconda3/lib/python3.10/site-packages (from geopandas) (1.5.3)\n",
      "Requirement already satisfied: shapely>=1.7.1 in /Users/watcharin-p/anaconda3/lib/python3.10/site-packages (from geopandas) (2.0.1)\n",
      "Requirement already satisfied: packaging in /Users/watcharin-p/anaconda3/lib/python3.10/site-packages (from geopandas) (23.0)\n",
      "Requirement already satisfied: pyparsing>=2.3.1 in /Users/watcharin-p/anaconda3/lib/python3.10/site-packages (from matplotlib) (3.0.9)\n",
      "Requirement already satisfied: numpy>=1.20 in /Users/watcharin-p/anaconda3/lib/python3.10/site-packages (from matplotlib) (1.23.5)\n",
      "Requirement already satisfied: cycler>=0.10 in /Users/watcharin-p/anaconda3/lib/python3.10/site-packages (from matplotlib) (0.11.0)\n",
      "Requirement already satisfied: pillow>=6.2.0 in /Users/watcharin-p/anaconda3/lib/python3.10/site-packages (from matplotlib) (9.5.0)\n",
      "Requirement already satisfied: python-dateutil>=2.7 in /Users/watcharin-p/anaconda3/lib/python3.10/site-packages (from matplotlib) (2.8.2)\n",
      "Requirement already satisfied: contourpy>=1.0.1 in /Users/watcharin-p/anaconda3/lib/python3.10/site-packages (from matplotlib) (1.0.5)\n",
      "Requirement already satisfied: fonttools>=4.22.0 in /Users/watcharin-p/anaconda3/lib/python3.10/site-packages (from matplotlib) (4.25.0)\n",
      "Requirement already satisfied: kiwisolver>=1.0.1 in /Users/watcharin-p/anaconda3/lib/python3.10/site-packages (from matplotlib) (1.4.4)\n",
      "Requirement already satisfied: cligj>=0.5 in /Users/watcharin-p/anaconda3/lib/python3.10/site-packages (from fiona>=1.8.19->geopandas) (0.7.2)\n",
      "Requirement already satisfied: setuptools in /Users/watcharin-p/anaconda3/lib/python3.10/site-packages (from fiona>=1.8.19->geopandas) (65.6.3)\n",
      "Requirement already satisfied: certifi in /Users/watcharin-p/anaconda3/lib/python3.10/site-packages (from fiona>=1.8.19->geopandas) (2023.5.7)\n",
      "Requirement already satisfied: click-plugins>=1.0 in /Users/watcharin-p/anaconda3/lib/python3.10/site-packages (from fiona>=1.8.19->geopandas) (1.1.1)\n",
      "Requirement already satisfied: click~=8.0 in /Users/watcharin-p/anaconda3/lib/python3.10/site-packages (from fiona>=1.8.19->geopandas) (8.0.4)\n",
      "Requirement already satisfied: munch>=2.3.2 in /Users/watcharin-p/anaconda3/lib/python3.10/site-packages (from fiona>=1.8.19->geopandas) (3.0.0)\n",
      "Requirement already satisfied: attrs>=19.2.0 in /Users/watcharin-p/anaconda3/lib/python3.10/site-packages (from fiona>=1.8.19->geopandas) (22.1.0)\n",
      "Requirement already satisfied: pytz>=2020.1 in /Users/watcharin-p/anaconda3/lib/python3.10/site-packages (from pandas>=1.1.0->geopandas) (2022.7)\n",
      "Requirement already satisfied: six>=1.5 in /Users/watcharin-p/anaconda3/lib/python3.10/site-packages (from python-dateutil>=2.7->matplotlib) (1.16.0)\n",
      "Note: you may need to restart the kernel to use updated packages.\n"
     ]
    }
   ],
   "source": [
    "pip install geopandas matplotlib"
   ]
  },
  {
   "cell_type": "code",
   "execution_count": 8,
   "id": "f1849ee1",
   "metadata": {},
   "outputs": [
    {
     "name": "stdout",
     "output_type": "stream",
     "text": [
      "   Shape_Leng  Shape_Area                   ADM3_EN          ADM3_TH  \\\n",
      "0    0.047699    0.000128  Phraborom Maharatchawang  พระบรมมหาราชวัง   \n",
      "1    0.033550    0.000061       Wang Burapha Phirom   วังบูรพาภิรมย์   \n",
      "2    0.017289    0.000018          Wat Ratchabophit       วัดราชบพิธ   \n",
      "3    0.019046    0.000019                Samran Rat      สำราญราษฎร์   \n",
      "4    0.015232    0.000013          San Chaopho Suea   ศาลเจ้าพ่อเสือ   \n",
      "\n",
      "  ADM3_PCODE  ADM3_REF  ADM3ALT1EN  ADM3ALT2EN  ADM3ALT1TH  ADM3ALT2TH  ...  \\\n",
      "0   TH100101       NaN         NaN         NaN         NaN         NaN  ...   \n",
      "1   TH100102       NaN         NaN         NaN         NaN         NaN  ...   \n",
      "2   TH100103       NaN         NaN         NaN         NaN         NaN  ...   \n",
      "3   TH100104       NaN         NaN         NaN         NaN         NaN  ...   \n",
      "4   TH100105       NaN         NaN         NaN         NaN         NaN  ...   \n",
      "\n",
      "         ADM1_TH ADM1_PCODE   ADM0_EN    ADM0_TH ADM0_PCODE        date  \\\n",
      "0  กรุงเทพมหานคร       TH10  Thailand  ประเทศไทย         TH  2019-02-18   \n",
      "1  กรุงเทพมหานคร       TH10  Thailand  ประเทศไทย         TH  2019-02-18   \n",
      "2  กรุงเทพมหานคร       TH10  Thailand  ประเทศไทย         TH  2019-02-18   \n",
      "3  กรุงเทพมหานคร       TH10  Thailand  ประเทศไทย         TH  2019-02-18   \n",
      "4  กรุงเทพมหานคร       TH10  Thailand  ประเทศไทย         TH  2019-02-18   \n",
      "\n",
      "      validOn validTo ORIG_FID                    geometry  \n",
      "0  2022-01-22     NaN        0  POINT (100.49210 13.75129)  \n",
      "1  2022-01-22     NaN        1  POINT (100.49895 13.74391)  \n",
      "2  2022-01-22     NaN        2  POINT (100.49914 13.74994)  \n",
      "3  2022-01-22     NaN        3  POINT (100.50337 13.75112)  \n",
      "4  2022-01-22     NaN        4  POINT (100.49707 13.75396)  \n",
      "\n",
      "[5 rows x 24 columns]\n",
      "Number of rows: 7425\n",
      "Coordinate reference system: EPSG:4326\n"
     ]
    },
    {
     "name": "stderr",
     "output_type": "stream",
     "text": [
      "/var/folders/pp/1y1_xkbj3v7ghykf_mbb2tl80000gn/T/ipykernel_91531/3860468394.py:17: UserWarning: Geometry is in a geographic CRS. Results from 'buffer' are likely incorrect. Use 'GeoSeries.to_crs()' to re-project geometries to a projected CRS before this operation.\n",
      "\n",
      "  buffered_data = data.buffer(1000)  # Buffer of 1000 meters around each polygon\n"
     ]
    },
    {
     "data": {
      "image/png": "[encoded data removed]",
      "text/plain": [
       "<Figure size 640x480 with 1 Axes>"
      ]
     },
     "metadata": {},
     "output_type": "display_data"
    }
   ],
   "source": [
    "import geopandas as gpd\n",
    "import matplotlib.pyplot as plt\n",
    "\n",
    "# Read shapefile data\n",
    "shapefile_path = \"/Users/watcharin-p/Documents/GitHub/Python_GIS/data/tha_adm_rtsd_itos_20210121_shp/tha_admbndp_admALL_rtsd_itos_20220121.shp\"\n",
    "data = gpd.read_file(shapefile_path)\n",
    "\n",
    "# Check the attribute table\n",
    "print(data.head())\n",
    "\n",
    "# Get basic information about the data\n",
    "print(\"Number of rows:\", len(data))\n",
    "print(\"Coordinate reference system:\", data.crs)\n",
    "\n",
    "# Perform spatial operations\n",
    "# Example 1: Buffer around polygons\n",
    "buffered_data = data.buffer(1000)  # Buffer of 1000 meters around each polygon\n",
    "\n",
    "# Plot the map\n",
    "data.plot()\n",
    "plt.show()"
   ]
  },
  {
   "cell_type": "code",
   "execution_count": null,
   "id": "400100b2",
   "metadata": {},
   "outputs": [],
   "source": []
  }
 ],
 "metadata": {
  "kernelspec": {
   "display_name": "Python 3 (ipykernel)",
   "language": "python",
   "name": "python3"
  },
  "language_info": {
   "codemirror_mode": {
    "name": "ipython",
    "version": 3
   },
   "file_extension": ".py",
   "mimetype": "text/x-python",
   "name": "python",
   "nbconvert_exporter": "python",
   "pygments_lexer": "ipython3",
   "version": "3.10.11"
  }
 },
 "nbformat": 4,
 "nbformat_minor": 5
}
