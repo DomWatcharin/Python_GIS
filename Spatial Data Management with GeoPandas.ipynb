{
 "cells": [
  {
   "cell_type": "code",
   "execution_count": 31,
   "id": "1d31e546",
   "metadata": {},
   "outputs": [],
   "source": [
    "# Install library"
   ]
  },
  {
   "cell_type": "code",
   "execution_count": 4,
   "id": "4603316c",
   "metadata": {},
   "outputs": [
    {
     "name": "stdout",
     "output_type": "stream",
     "text": [
      "Requirement already satisfied: geopandas in /Users/watcharin-p/anaconda3/lib/python3.10/site-packages (0.13.0)\n",
      "Requirement already satisfied: packaging in /Users/watcharin-p/anaconda3/lib/python3.10/site-packages (from geopandas) (23.0)\n",
      "Requirement already satisfied: fiona>=1.8.19 in /Users/watcharin-p/anaconda3/lib/python3.10/site-packages (from geopandas) (1.9.1)\n",
      "Requirement already satisfied: pyproj>=3.0.1 in /Users/watcharin-p/anaconda3/lib/python3.10/site-packages (from geopandas) (3.5.0)\n",
      "Requirement already satisfied: pandas>=1.1.0 in /Users/watcharin-p/anaconda3/lib/python3.10/site-packages (from geopandas) (1.5.3)\n",
      "Requirement already satisfied: shapely>=1.7.1 in /Users/watcharin-p/anaconda3/lib/python3.10/site-packages (from geopandas) (2.0.1)\n",
      "Requirement already satisfied: click~=8.0 in /Users/watcharin-p/anaconda3/lib/python3.10/site-packages (from fiona>=1.8.19->geopandas) (8.0.4)\n",
      "Requirement already satisfied: click-plugins>=1.0 in /Users/watcharin-p/anaconda3/lib/python3.10/site-packages (from fiona>=1.8.19->geopandas) (1.1.1)\n",
      "Requirement already satisfied: certifi in /Users/watcharin-p/anaconda3/lib/python3.10/site-packages (from fiona>=1.8.19->geopandas) (2023.5.7)\n",
      "Requirement already satisfied: attrs>=19.2.0 in /Users/watcharin-p/anaconda3/lib/python3.10/site-packages (from fiona>=1.8.19->geopandas) (22.1.0)\n",
      "Requirement already satisfied: munch>=2.3.2 in /Users/watcharin-p/anaconda3/lib/python3.10/site-packages (from fiona>=1.8.19->geopandas) (3.0.0)\n",
      "Requirement already satisfied: setuptools in /Users/watcharin-p/anaconda3/lib/python3.10/site-packages (from fiona>=1.8.19->geopandas) (65.6.3)\n",
      "Requirement already satisfied: cligj>=0.5 in /Users/watcharin-p/anaconda3/lib/python3.10/site-packages (from fiona>=1.8.19->geopandas) (0.7.2)\n",
      "Requirement already satisfied: python-dateutil>=2.8.1 in /Users/watcharin-p/anaconda3/lib/python3.10/site-packages (from pandas>=1.1.0->geopandas) (2.8.2)\n",
      "Requirement already satisfied: pytz>=2020.1 in /Users/watcharin-p/anaconda3/lib/python3.10/site-packages (from pandas>=1.1.0->geopandas) (2022.7)\n",
      "Requirement already satisfied: numpy>=1.21.0 in /Users/watcharin-p/anaconda3/lib/python3.10/site-packages (from pandas>=1.1.0->geopandas) (1.23.5)\n",
      "Requirement already satisfied: six in /Users/watcharin-p/anaconda3/lib/python3.10/site-packages (from munch>=2.3.2->fiona>=1.8.19->geopandas) (1.16.0)\n",
      "Note: you may need to restart the kernel to use updated packages.\n"
     ]
    }
   ],
   "source": [
    "pip install geopandas"
   ]
  },
  {
   "cell_type": "code",
   "execution_count": 8,
   "id": "0a78e89d",
   "metadata": {},
   "outputs": [
    {
     "name": "stdout",
     "output_type": "stream",
     "text": [
      "Collecting seaborn\n",
      "  Downloading seaborn-0.12.2-py3-none-any.whl (293 kB)\n",
      "\u001b[2K     \u001b[90m━━━━━━━━━━━━━━━━━━━━━━━━━━━━━━━━━━━━━━━\u001b[0m \u001b[32m293.3/293.3 kB\u001b[0m \u001b[31m2.5 MB/s\u001b[0m eta \u001b[36m0:00:00\u001b[0ma \u001b[36m0:00:01\u001b[0m\n",
      "\u001b[?25hRequirement already satisfied: pandas>=0.25 in /Users/watcharin-p/anaconda3/lib/python3.10/site-packages (from seaborn) (1.5.3)\n",
      "Requirement already satisfied: numpy!=1.24.0,>=1.17 in /Users/watcharin-p/anaconda3/lib/python3.10/site-packages (from seaborn) (1.23.5)\n",
      "Requirement already satisfied: matplotlib!=3.6.1,>=3.1 in /Users/watcharin-p/anaconda3/lib/python3.10/site-packages (from seaborn) (3.7.1)\n",
      "Requirement already satisfied: pyparsing>=2.3.1 in /Users/watcharin-p/anaconda3/lib/python3.10/site-packages (from matplotlib!=3.6.1,>=3.1->seaborn) (3.0.9)\n",
      "Requirement already satisfied: cycler>=0.10 in /Users/watcharin-p/anaconda3/lib/python3.10/site-packages (from matplotlib!=3.6.1,>=3.1->seaborn) (0.11.0)\n",
      "Requirement already satisfied: packaging>=20.0 in /Users/watcharin-p/anaconda3/lib/python3.10/site-packages (from matplotlib!=3.6.1,>=3.1->seaborn) (23.0)\n",
      "Requirement already satisfied: fonttools>=4.22.0 in /Users/watcharin-p/anaconda3/lib/python3.10/site-packages (from matplotlib!=3.6.1,>=3.1->seaborn) (4.25.0)\n",
      "Requirement already satisfied: pillow>=6.2.0 in /Users/watcharin-p/anaconda3/lib/python3.10/site-packages (from matplotlib!=3.6.1,>=3.1->seaborn) (9.5.0)\n",
      "Requirement already satisfied: kiwisolver>=1.0.1 in /Users/watcharin-p/anaconda3/lib/python3.10/site-packages (from matplotlib!=3.6.1,>=3.1->seaborn) (1.4.4)\n",
      "Requirement already satisfied: python-dateutil>=2.7 in /Users/watcharin-p/anaconda3/lib/python3.10/site-packages (from matplotlib!=3.6.1,>=3.1->seaborn) (2.8.2)\n",
      "Requirement already satisfied: contourpy>=1.0.1 in /Users/watcharin-p/anaconda3/lib/python3.10/site-packages (from matplotlib!=3.6.1,>=3.1->seaborn) (1.0.5)\n",
      "Requirement already satisfied: pytz>=2020.1 in /Users/watcharin-p/anaconda3/lib/python3.10/site-packages (from pandas>=0.25->seaborn) (2022.7)\n",
      "Requirement already satisfied: six>=1.5 in /Users/watcharin-p/anaconda3/lib/python3.10/site-packages (from python-dateutil>=2.7->matplotlib!=3.6.1,>=3.1->seaborn) (1.16.0)\n",
      "Installing collected packages: seaborn\n",
      "Successfully installed seaborn-0.12.2\n",
      "Note: you may need to restart the kernel to use updated packages.\n"
     ]
    }
   ],
   "source": [
    "pip install seaborn"
   ]
  },
  {
   "cell_type": "code",
   "execution_count": 10,
   "id": "deec1b78",
   "metadata": {},
   "outputs": [
    {
     "name": "stdout",
     "output_type": "stream",
     "text": [
      "Collecting geojson\n",
      "  Downloading geojson-3.0.1-py3-none-any.whl (15 kB)\n",
      "Installing collected packages: geojson\n",
      "Successfully installed geojson-3.0.1\n",
      "Note: you may need to restart the kernel to use updated packages.\n"
     ]
    }
   ],
   "source": [
    "pip install geojson"
   ]
  },
  {
   "cell_type": "code",
   "execution_count": 15,
   "id": "9c067f59",
   "metadata": {},
   "outputs": [],
   "source": [
    "# Set up packages\n",
    "\n",
    "%matplotlib inline\n",
    "\n",
    "import os\n",
    "import matplotlib.pyplot as plt\n",
    "import seaborn as sns\n",
    "\n",
    "from shapely.geometry import Point\n",
    "import pandas as pd\n",
    "import geopandas as gpd\n",
    "from geopandas import GeoSeries, GeoDataFrame\n",
    "import requests\n",
    "import geojson\n",
    "from pyproj import CRS"
   ]
  },
  {
   "cell_type": "code",
   "execution_count": 12,
   "id": "de4cb207",
   "metadata": {},
   "outputs": [],
   "source": [
    "# การสร้าง geometry object ด้วย GeoSeries\n",
    "#ตัวอย่าง ใช้ GeoSeries ในการสร้าง point geometry จาก WKT ที่ระบุข้อมูลตำแหน่งของ 2 จุด\n",
    "# ดำเนินการกำหนดระบบพิกัดอ้างอิงเริ่มต้น แบบ EPSG 4326"
   ]
  },
  {
   "cell_type": "code",
   "execution_count": 19,
   "id": "1f16d216",
   "metadata": {},
   "outputs": [
    {
     "data": {
      "text/plain": [
       "0    POINT (100.00000 12.00000)\n",
       "1    POINT (100.25000 11.50000)\n",
       "2     POINT (99.80000 11.00000)\n",
       "dtype: geometry"
      ]
     },
     "execution_count": 19,
     "metadata": {},
     "output_type": "execute_result"
    }
   ],
   "source": [
    "# GeoSeries\n",
    "gs = GeoSeries([Point(100,12), Point(100.25,11.5), Point(99.8,11)])\n",
    "gs.crs = CRS.from_string('epsg:4326')\n",
    "gs"
   ]
  },
  {
   "cell_type": "code",
   "execution_count": 27,
   "id": "600831b9",
   "metadata": {},
   "outputs": [
    {
     "data": {
      "image/png": "[encoded data removed]",
      "text/plain": [
       "<Figure size 400x400 with 1 Axes>"
      ]
     },
     "metadata": {},
     "output_type": "display_data"
    }
   ],
   "source": [
    "# create map\n",
    "gs.plot(marker='*', color='red', markersize=120, figsize=(4, 4))\n",
    "plt.xlim([99, 101])\n",
    "plt.ylim([10.5, 12.5])\n",
    "plt.show()"
   ]
  },
  {
   "cell_type": "code",
   "execution_count": 29,
   "id": "e0001b00",
   "metadata": {},
   "outputs": [
    {
     "data": {
      "text/html": [
       "<div>\n",
       "<style scoped>\n",
       "    .dataframe tbody tr th:only-of-type {\n",
       "        vertical-align: middle;\n",
       "    }\n",
       "\n",
       "    .dataframe tbody tr th {\n",
       "        vertical-align: top;\n",
       "    }\n",
       "\n",
       "    .dataframe thead th {\n",
       "        text-align: right;\n",
       "    }\n",
       "</style>\n",
       "<table border=\"1\" class=\"dataframe\">\n",
       "  <thead>\n",
       "    <tr style=\"text-align: right;\">\n",
       "      <th></th>\n",
       "      <th>name</th>\n",
       "      <th>lat</th>\n",
       "      <th>lon</th>\n",
       "      <th>code</th>\n",
       "    </tr>\n",
       "  </thead>\n",
       "  <tbody>\n",
       "    <tr>\n",
       "      <th>0</th>\n",
       "      <td>pa</td>\n",
       "      <td>11.45</td>\n",
       "      <td>99.58</td>\n",
       "      <td>A101</td>\n",
       "    </tr>\n",
       "    <tr>\n",
       "      <th>1</th>\n",
       "      <td>pb</td>\n",
       "      <td>11.26</td>\n",
       "      <td>100.12</td>\n",
       "      <td>A101</td>\n",
       "    </tr>\n",
       "    <tr>\n",
       "      <th>2</th>\n",
       "      <td>pc</td>\n",
       "      <td>10.85</td>\n",
       "      <td>100.00</td>\n",
       "      <td>A102</td>\n",
       "    </tr>\n",
       "    <tr>\n",
       "      <th>3</th>\n",
       "      <td>pd</td>\n",
       "      <td>11.00</td>\n",
       "      <td>100.41</td>\n",
       "      <td>A103</td>\n",
       "    </tr>\n",
       "    <tr>\n",
       "      <th>4</th>\n",
       "      <td>pe</td>\n",
       "      <td>10.50</td>\n",
       "      <td>101.10</td>\n",
       "      <td>A101</td>\n",
       "    </tr>\n",
       "  </tbody>\n",
       "</table>\n",
       "</div>"
      ],
      "text/plain": [
       "  name    lat     lon  code\n",
       "0   pa  11.45   99.58  A101\n",
       "1   pb  11.26  100.12  A101\n",
       "2   pc  10.85  100.00  A102\n",
       "3   pd  11.00  100.41  A103\n",
       "4   pe  10.50  101.10  A101"
      ]
     },
     "execution_count": 29,
     "metadata": {},
     "output_type": "execute_result"
    }
   ],
   "source": [
    "# GeoDataframe เริ่มจากเตรียมข้อมูลจุดพิกัด และ attribute บน pandas dataframe\n",
    "\n",
    "data = {'name':['pa', 'pb', 'pc', 'pd', 'pe'],\n",
    "       'lat':[11.45, 11.26, 10.85, 11, 10.5],\n",
    "       'lon':[99.58, 100.12, 100, 100.41, 101.1],\n",
    "       'code':['A101', 'A101', 'A102', 'A103', 'A101']}\n",
    "df = pd.DataFrame(data)\n",
    "df"
   ]
  },
  {
   "cell_type": "code",
   "execution_count": 30,
   "id": "af4de8a1",
   "metadata": {},
   "outputs": [
    {
     "data": {
      "text/plain": [
       "<Axes: >"
      ]
     },
     "execution_count": 30,
     "metadata": {},
     "output_type": "execute_result"
    },
    {
     "data": {
      "image/png": "[encoded data removed]",
      "text/plain": [
       "<Figure size 1000x1000 with 1 Axes>"
      ]
     },
     "metadata": {},
     "output_type": "display_data"
    }
   ],
   "source": [
    "# create geometry from dataframe\n",
    "\n",
    "geometry = [Point(xy) for xy in zip(df['lon'], df['lat'])]\n",
    "gdf = GeoDataFrame(df, geometry=geometry)\n",
    "\n",
    "#plot results\n",
    "gdf.plot(marker='*', color='green', markersize=120, figsize=(10,10))"
   ]
  },
  {
   "cell_type": "code",
   "execution_count": null,
   "id": "95477dfc",
   "metadata": {},
   "outputs": [],
   "source": []
  }
 ],
 "metadata": {
  "kernelspec": {
   "display_name": "Python 3 (ipykernel)",
   "language": "python",
   "name": "python3"
  },
  "language_info": {
   "codemirror_mode": {
    "name": "ipython",
    "version": 3
   },
   "file_extension": ".py",
   "mimetype": "text/x-python",
   "name": "python",
   "nbconvert_exporter": "python",
   "pygments_lexer": "ipython3",
   "version": "3.10.11"
  }
 },
 "nbformat": 4,
 "nbformat_minor": 5
}
